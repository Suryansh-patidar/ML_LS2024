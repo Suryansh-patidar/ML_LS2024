{
  "nbformat": 4,
  "nbformat_minor": 0,
  "metadata": {
    "colab": {
      "provenance": [],
      "include_colab_link": true
    },
    "kernelspec": {
      "name": "python3",
      "display_name": "Python 3"
    },
    "language_info": {
      "name": "python"
    }
  },
  "cells": [
    {
      "cell_type": "markdown",
      "metadata": {
        "id": "view-in-github",
        "colab_type": "text"
      },
      "source": [
        "<a href=\"https://colab.research.google.com/github/Suryansh-patidar/ML_LS2024/blob/main/Python_Modules.ipynb\" target=\"_parent\"><img src=\"https://colab.research.google.com/assets/colab-badge.svg\" alt=\"Open In Colab\"/></a>"
      ]
    },
    {
      "cell_type": "markdown",
      "source": [
        "# Numpy Implementation"
      ],
      "metadata": {
        "id": "nKMH5Y1T06vH"
      }
    },
    {
      "cell_type": "code",
      "execution_count": 6,
      "metadata": {
        "colab": {
          "base_uri": "https://localhost:8080/"
        },
        "id": "MM8X0T-p06HB",
        "outputId": "2fab19d7-c4a6-4b0a-c1f7-3b7e9d332bf3"
      },
      "outputs": [
        {
          "output_type": "stream",
          "name": "stdout",
          "text": [
            "Passed\n"
          ]
        }
      ],
      "source": [
        "import numpy as np\n",
        "# Create a 2D Numpy array of size 1x3 with elements of your choice\n",
        "arr1= np.array([[1,2,3]])#Your code here\n",
        "\n",
        "# Create a Numpy array of length 50 with zeroes as its elements\n",
        "arr2= np.zeros(50)#Your code here\n",
        "\n",
        "#Create a Numpy array of length 3x2 with elements of your choice\n",
        "arr3=np.array([[1,2],[3,4],[5,6]])#Your code here\n",
        "\n",
        "arr4=np.matmul(arr1,arr3)#Multiply arr1 and arr3 using Numpy functions\n",
        "\n",
        "#Change 5th element of arr2 to a different number\n",
        "#Your code here\n",
        "arr2[4]=7\n",
        "# print(arr4.shape)\n",
        "if np.shape(arr4)==(1,2) and arr2[4]!=0:\n",
        "  print(\"Passed\")\n",
        "else:\n",
        "  print(\"Fail\")"
      ]
    },
    {
      "cell_type": "code",
      "source": [
        "import numpy as np\n",
        "\n",
        "#Task: Perform the dot product of I and 9I+1 using numpy, here I is referred to as an 3x3 Identity matrix.\n",
        "I=np.identity(3)\n",
        "print(np.dot(I,9*I+1))\n"
      ],
      "metadata": {
        "id": "KNTXZFd13rgE",
        "outputId": "05377aa3-ac1c-4c63-bf02-5f419be78d33",
        "colab": {
          "base_uri": "https://localhost:8080/"
        }
      },
      "execution_count": 10,
      "outputs": [
        {
          "output_type": "stream",
          "name": "stdout",
          "text": [
            "[[10.  1.  1.]\n",
            " [ 1. 10.  1.]\n",
            " [ 1.  1. 10.]]\n"
          ]
        }
      ]
    },
    {
      "cell_type": "markdown",
      "source": [
        "# Pandas Implementation"
      ],
      "metadata": {
        "id": "rRrOxN-6FXAb"
      }
    },
    {
      "cell_type": "code",
      "source": [
        "import pandas as pd\n",
        "\n",
        "## Create a DataFrame from a dictionary\n",
        "data = {\n",
        "    'Name': ['Ramesh', 'Mahesh', 'Suresh'],\n",
        "    'Age': [25, 30, 35],\n",
        "    'City': ['Bangalore', 'Mumbai', 'Delhi']\n",
        "}\n",
        "#Your code here\n",
        "df = pd.DataFrame(data)\n",
        "#Display the first 2 rows of the data frame\n",
        "#Your code here\n",
        "print(df.head(2))\n",
        "print('----------')\n",
        "#Print the age column\n",
        "#Your code here\n",
        "print(df['Age'])\n",
        "print('----------')\n",
        "\n",
        "#Filter rows where age is greater than 26\n",
        "#Your code here\n",
        "print(df[df['Age']>26])\n",
        "print('----------')\n",
        "\n",
        "#Add a new column 'Country' with the value 'India' for all rows\n",
        "#Your code here\n",
        "df['Country']='India'\n",
        "print(df)\n",
        "print('----------')\n",
        "\n",
        "data1 = {\n",
        "    'Name': ['Ramesh', 'Mahesh', 'Suresh'],\n",
        "    'Age': [25, None, 35],\n",
        "    'City': ['Bangalore', 'Mumbai', 'Delhi']\n",
        "}\n",
        "\n",
        "df2= pd.DataFrame(data1)\n",
        "\n",
        "# Fill missing values in the 'Age' column with the mean age\n",
        "#Your code here\n",
        "df2['Age']=df2['Age'].fillna(df2['Age'].mean())\n",
        "print(df2)"
      ],
      "metadata": {
        "id": "EaoIVtKIFenB",
        "outputId": "d633afd4-a20f-4495-fecf-34a8f7c35f8c",
        "colab": {
          "base_uri": "https://localhost:8080/"
        }
      },
      "execution_count": 12,
      "outputs": [
        {
          "output_type": "stream",
          "name": "stdout",
          "text": [
            "     Name  Age       City\n",
            "0  Ramesh   25  Bangalore\n",
            "1  Mahesh   30     Mumbai\n",
            "----------\n",
            "0    25\n",
            "1    30\n",
            "2    35\n",
            "Name: Age, dtype: int64\n",
            "----------\n",
            "     Name  Age    City\n",
            "1  Mahesh   30  Mumbai\n",
            "2  Suresh   35   Delhi\n",
            "----------\n",
            "     Name  Age       City Country\n",
            "0  Ramesh   25  Bangalore   India\n",
            "1  Mahesh   30     Mumbai   India\n",
            "2  Suresh   35      Delhi   India\n",
            "----------\n",
            "     Name   Age       City\n",
            "0  Ramesh  25.0  Bangalore\n",
            "1  Mahesh  30.0     Mumbai\n",
            "2  Suresh  35.0      Delhi\n"
          ]
        }
      ]
    },
    {
      "cell_type": "markdown",
      "source": [
        "# Matplotlib Implementation"
      ],
      "metadata": {
        "id": "uay3H4C8cboE"
      }
    },
    {
      "cell_type": "code",
      "source": [
        "import matplotlib.pyplot as plt\n",
        "import numpy as np# module. Fill your code\n",
        "\n",
        "\n",
        "\n",
        "xpoints=np.array([1,2,3,4])\n",
        "ypoints=np.array([2,4,6,8])\n",
        "\n",
        "#Plot these points without drawing a line\n",
        "#Your code here\n",
        "plt.scatter(xpoints,ypoints,s=7)\n",
        "\n",
        "#Plotting with marker: Plot these points with a marker(Star marker)\n",
        "#Your code here\n",
        "plt.scatter(xpoints,ypoints,marker='*')\n",
        "\n",
        "\n",
        "#Using fmt format, add circular marker,red color and Dashed line\n",
        "#Your code here\n",
        "plt.scatter(xpoints,ypoints,marker='o',c='r',linestyle='--')\n",
        "\n",
        "#Add xlabel,ylabel and title for the plot.\n",
        "#Your code here\n",
        "plt.xlabel('x-axis')\n",
        "plt.ylabel('y-axis')\n",
        "plt.title('My Plot')\n",
        "\n",
        "#Create a scatter plot for xpoints and ypoints\n",
        "#Your code here\n",
        "plt.show()\n",
        "\n",
        "#Set color to the scatter plot. Blue,Green,Red and yellow color for each point respectively\n",
        "#Your code here\n",
        "plt.scatter(xpoints,ypoints,c=['b','g','r','y'])\n",
        "plt.show()\n"
      ],
      "metadata": {
        "colab": {
          "base_uri": "https://localhost:8080/",
          "height": 885
        },
        "id": "i4lccqVxcgE_",
        "outputId": "a5540aaa-a71e-407b-c655-7c58e6ad1618"
      },
      "execution_count": 17,
      "outputs": [
        {
          "output_type": "display_data",
          "data": {
            "text/plain": [
              "<Figure size 640x480 with 1 Axes>"
            ],
            "image/png": "[encoded data removed]"
          },
          "metadata": {}
        },
        {
          "output_type": "display_data",
          "data": {
            "text/plain": [
              "<Figure size 640x480 with 1 Axes>"
            ],
            "image/png": "[encoded data removed]"
          },
          "metadata": {}
        }
      ]
    },
    {
      "cell_type": "markdown",
      "source": [
        "# Miscellaneous Modules Implementation"
      ],
      "metadata": {
        "id": "pfe2Fv2tgKq5"
      }
    },
    {
      "cell_type": "code",
      "source": [],
      "metadata": {
        "id": "uwET4NZGSCru"
      },
      "execution_count": null,
      "outputs": []
    },
    {
      "cell_type": "code",
      "source": [
        "import random\n",
        "import numpy as np\n",
        "\n",
        "#Set the seed of random to 20\n",
        "#Your code here\n",
        "random.seed(20)\n",
        "\n",
        "arr1=np.array([1,24,31,45,73,81,94,25])\n",
        "\n",
        "#Using the random module pick 4 different random numbers from arr1 and return their sum.\n",
        "#Your code here\n",
        "print(sum(random.sample(list(arr1),4)))"
      ],
      "metadata": {
        "id": "a_bTz2PlgRah",
        "outputId": "44e8f834-9170-468b-bc08-85c2a258952d",
        "colab": {
          "base_uri": "https://localhost:8080/"
        }
      },
      "execution_count": 18,
      "outputs": [
        {
          "output_type": "stream",
          "name": "stdout",
          "text": [
            "138\n"
          ]
        }
      ]
    },
    {
      "cell_type": "code",
      "source": [],
      "metadata": {
        "id": "fEpIN29pbeSm"
      },
      "execution_count": null,
      "outputs": []
    }
  ]
}